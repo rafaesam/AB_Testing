{
 "cells": [
  {
   "cell_type": "markdown",
   "id": "3e29fd2c",
   "metadata": {},
   "source": [
    "## Classical AB Testing"
   ]
  },
  {
   "cell_type": "code",
   "execution_count": 46,
   "id": "073248d5",
   "metadata": {},
   "outputs": [
    {
     "ename": "ModuleNotFoundError",
     "evalue": "No module named 'stats'",
     "output_type": "error",
     "traceback": [
      "\u001b[1;31m---------------------------------------------------------------------------\u001b[0m",
      "\u001b[1;31mModuleNotFoundError\u001b[0m                       Traceback (most recent call last)",
      "\u001b[1;32m~\\AppData\\Local\\Temp/ipykernel_15008/1432378780.py\u001b[0m in \u001b[0;36m<module>\u001b[1;34m\u001b[0m\n\u001b[0;32m     12\u001b[0m \u001b[1;32mimport\u001b[0m \u001b[0mscipy\u001b[0m\u001b[1;33m.\u001b[0m\u001b[0mstats\u001b[0m \u001b[1;32mas\u001b[0m \u001b[0mscs\u001b[0m\u001b[1;33m\u001b[0m\u001b[1;33m\u001b[0m\u001b[0m\n\u001b[0;32m     13\u001b[0m \u001b[1;33m\u001b[0m\u001b[0m\n\u001b[1;32m---> 14\u001b[1;33m \u001b[1;32mfrom\u001b[0m \u001b[0mstats\u001b[0m \u001b[1;32mimport\u001b[0m \u001b[0mpooled_SE\u001b[0m\u001b[1;33m,\u001b[0m \u001b[0mconfidence_interval\u001b[0m\u001b[1;33m,\u001b[0m \u001b[0mab_dist\u001b[0m\u001b[1;33m,\u001b[0m \u001b[0mp_val\u001b[0m\u001b[1;33m,\u001b[0m \u001b[0mz_val\u001b[0m\u001b[1;33m\u001b[0m\u001b[1;33m\u001b[0m\u001b[0m\n\u001b[0m",
      "\u001b[1;31mModuleNotFoundError\u001b[0m: No module named 'stats'"
     ]
    }
   ],
   "source": [
    "#Import Libraries\n",
    "import numpy as np\n",
    "import pandas as pd\n",
    "import matplotlib.pyplot as plt\n",
    "import warnings\n",
    "import scipy\n",
    "from scipy import stats\n",
    "import sys\n",
    "import os\n",
    "\n",
    "\n",
    "import scipy.stats as scs\n",
    "\n",
    "from stats import pooled_SE, confidence_interval, ab_dist, p_val, z_val"
   ]
  },
  {
   "cell_type": "code",
   "execution_count": 45,
   "id": "28dcf50b",
   "metadata": {},
   "outputs": [],
   "source": [
    "sys.path.append(os.path.abspath(os.path.join('../scripts')))\n",
    "#from plot import *"
   ]
  },
  {
   "cell_type": "code",
   "execution_count": 34,
   "id": "2e539018",
   "metadata": {},
   "outputs": [],
   "source": [
    "%matplotlib inline\n",
    "warnings.filterwarnings(\"ignore\")"
   ]
  },
  {
   "cell_type": "code",
   "execution_count": 3,
   "id": "eb88d129",
   "metadata": {},
   "outputs": [
    {
     "data": {
      "text/html": [
       "<div>\n",
       "<style scoped>\n",
       "    .dataframe tbody tr th:only-of-type {\n",
       "        vertical-align: middle;\n",
       "    }\n",
       "\n",
       "    .dataframe tbody tr th {\n",
       "        vertical-align: top;\n",
       "    }\n",
       "\n",
       "    .dataframe thead th {\n",
       "        text-align: right;\n",
       "    }\n",
       "</style>\n",
       "<table border=\"1\" class=\"dataframe\">\n",
       "  <thead>\n",
       "    <tr style=\"text-align: right;\">\n",
       "      <th></th>\n",
       "      <th>auction_id</th>\n",
       "      <th>experiment</th>\n",
       "      <th>date</th>\n",
       "      <th>hour</th>\n",
       "      <th>device_make</th>\n",
       "      <th>platform_os</th>\n",
       "      <th>browser</th>\n",
       "      <th>yes</th>\n",
       "      <th>no</th>\n",
       "    </tr>\n",
       "  </thead>\n",
       "  <tbody>\n",
       "    <tr>\n",
       "      <th>0</th>\n",
       "      <td>0008ef63-77a7-448b-bd1e-075f42c55e39</td>\n",
       "      <td>exposed</td>\n",
       "      <td>2020-07-10</td>\n",
       "      <td>8</td>\n",
       "      <td>Generic Smartphone</td>\n",
       "      <td>6</td>\n",
       "      <td>Chrome Mobile</td>\n",
       "      <td>0</td>\n",
       "      <td>0</td>\n",
       "    </tr>\n",
       "    <tr>\n",
       "      <th>1</th>\n",
       "      <td>000eabc5-17ce-4137-8efe-44734d914446</td>\n",
       "      <td>exposed</td>\n",
       "      <td>2020-07-07</td>\n",
       "      <td>10</td>\n",
       "      <td>Generic Smartphone</td>\n",
       "      <td>6</td>\n",
       "      <td>Chrome Mobile</td>\n",
       "      <td>0</td>\n",
       "      <td>0</td>\n",
       "    </tr>\n",
       "    <tr>\n",
       "      <th>2</th>\n",
       "      <td>0016d14a-ae18-4a02-a204-6ba53b52f2ed</td>\n",
       "      <td>exposed</td>\n",
       "      <td>2020-07-05</td>\n",
       "      <td>2</td>\n",
       "      <td>E5823</td>\n",
       "      <td>6</td>\n",
       "      <td>Chrome Mobile WebView</td>\n",
       "      <td>0</td>\n",
       "      <td>1</td>\n",
       "    </tr>\n",
       "    <tr>\n",
       "      <th>3</th>\n",
       "      <td>00187412-2932-4542-a8ef-3633901c98d9</td>\n",
       "      <td>control</td>\n",
       "      <td>2020-07-03</td>\n",
       "      <td>15</td>\n",
       "      <td>Samsung SM-A705FN</td>\n",
       "      <td>6</td>\n",
       "      <td>Facebook</td>\n",
       "      <td>0</td>\n",
       "      <td>0</td>\n",
       "    </tr>\n",
       "    <tr>\n",
       "      <th>4</th>\n",
       "      <td>001a7785-d3fe-4e11-a344-c8735acacc2c</td>\n",
       "      <td>control</td>\n",
       "      <td>2020-07-03</td>\n",
       "      <td>15</td>\n",
       "      <td>Generic Smartphone</td>\n",
       "      <td>6</td>\n",
       "      <td>Chrome Mobile</td>\n",
       "      <td>0</td>\n",
       "      <td>0</td>\n",
       "    </tr>\n",
       "    <tr>\n",
       "      <th>...</th>\n",
       "      <td>...</td>\n",
       "      <td>...</td>\n",
       "      <td>...</td>\n",
       "      <td>...</td>\n",
       "      <td>...</td>\n",
       "      <td>...</td>\n",
       "      <td>...</td>\n",
       "      <td>...</td>\n",
       "      <td>...</td>\n",
       "    </tr>\n",
       "    <tr>\n",
       "      <th>8072</th>\n",
       "      <td>ffea24ec-cec1-43fb-b1d1-8f93828c2be2</td>\n",
       "      <td>exposed</td>\n",
       "      <td>2020-07-05</td>\n",
       "      <td>7</td>\n",
       "      <td>Generic Smartphone</td>\n",
       "      <td>6</td>\n",
       "      <td>Chrome Mobile</td>\n",
       "      <td>0</td>\n",
       "      <td>0</td>\n",
       "    </tr>\n",
       "    <tr>\n",
       "      <th>8073</th>\n",
       "      <td>ffea3210-2c3e-426f-a77d-0aa72e73b20f</td>\n",
       "      <td>control</td>\n",
       "      <td>2020-07-03</td>\n",
       "      <td>15</td>\n",
       "      <td>Generic Smartphone</td>\n",
       "      <td>6</td>\n",
       "      <td>Chrome Mobile</td>\n",
       "      <td>0</td>\n",
       "      <td>0</td>\n",
       "    </tr>\n",
       "    <tr>\n",
       "      <th>8074</th>\n",
       "      <td>ffeaa0f1-1d72-4ba9-afb4-314b3b00a7c7</td>\n",
       "      <td>control</td>\n",
       "      <td>2020-07-04</td>\n",
       "      <td>9</td>\n",
       "      <td>Generic Smartphone</td>\n",
       "      <td>6</td>\n",
       "      <td>Chrome Mobile</td>\n",
       "      <td>0</td>\n",
       "      <td>0</td>\n",
       "    </tr>\n",
       "    <tr>\n",
       "      <th>8075</th>\n",
       "      <td>ffeeed62-3f7c-4a6e-8ba7-95d303d40969</td>\n",
       "      <td>exposed</td>\n",
       "      <td>2020-07-05</td>\n",
       "      <td>15</td>\n",
       "      <td>Samsung SM-A515F</td>\n",
       "      <td>6</td>\n",
       "      <td>Samsung Internet</td>\n",
       "      <td>0</td>\n",
       "      <td>0</td>\n",
       "    </tr>\n",
       "    <tr>\n",
       "      <th>8076</th>\n",
       "      <td>fffbb9ff-568a-41a5-a0c3-6866592f80d8</td>\n",
       "      <td>control</td>\n",
       "      <td>2020-07-10</td>\n",
       "      <td>14</td>\n",
       "      <td>Samsung SM-G960F</td>\n",
       "      <td>6</td>\n",
       "      <td>Facebook</td>\n",
       "      <td>0</td>\n",
       "      <td>0</td>\n",
       "    </tr>\n",
       "  </tbody>\n",
       "</table>\n",
       "<p>8077 rows × 9 columns</p>\n",
       "</div>"
      ],
      "text/plain": [
       "                                auction_id experiment        date  hour  \\\n",
       "0     0008ef63-77a7-448b-bd1e-075f42c55e39    exposed  2020-07-10     8   \n",
       "1     000eabc5-17ce-4137-8efe-44734d914446    exposed  2020-07-07    10   \n",
       "2     0016d14a-ae18-4a02-a204-6ba53b52f2ed    exposed  2020-07-05     2   \n",
       "3     00187412-2932-4542-a8ef-3633901c98d9    control  2020-07-03    15   \n",
       "4     001a7785-d3fe-4e11-a344-c8735acacc2c    control  2020-07-03    15   \n",
       "...                                    ...        ...         ...   ...   \n",
       "8072  ffea24ec-cec1-43fb-b1d1-8f93828c2be2    exposed  2020-07-05     7   \n",
       "8073  ffea3210-2c3e-426f-a77d-0aa72e73b20f    control  2020-07-03    15   \n",
       "8074  ffeaa0f1-1d72-4ba9-afb4-314b3b00a7c7    control  2020-07-04     9   \n",
       "8075  ffeeed62-3f7c-4a6e-8ba7-95d303d40969    exposed  2020-07-05    15   \n",
       "8076  fffbb9ff-568a-41a5-a0c3-6866592f80d8    control  2020-07-10    14   \n",
       "\n",
       "             device_make  platform_os                browser  yes  no  \n",
       "0     Generic Smartphone            6          Chrome Mobile    0   0  \n",
       "1     Generic Smartphone            6          Chrome Mobile    0   0  \n",
       "2                  E5823            6  Chrome Mobile WebView    0   1  \n",
       "3      Samsung SM-A705FN            6               Facebook    0   0  \n",
       "4     Generic Smartphone            6          Chrome Mobile    0   0  \n",
       "...                  ...          ...                    ...  ...  ..  \n",
       "8072  Generic Smartphone            6          Chrome Mobile    0   0  \n",
       "8073  Generic Smartphone            6          Chrome Mobile    0   0  \n",
       "8074  Generic Smartphone            6          Chrome Mobile    0   0  \n",
       "8075    Samsung SM-A515F            6       Samsung Internet    0   0  \n",
       "8076    Samsung SM-G960F            6               Facebook    0   0  \n",
       "\n",
       "[8077 rows x 9 columns]"
      ]
     },
     "execution_count": 3,
     "metadata": {},
     "output_type": "execute_result"
    }
   ],
   "source": [
    "# reading the csv file\n",
    "missing_values = [\"n/a\", \"na\", \"undefined\"]\n",
    "df = pd.read_csv(\"../data/AdSmartABdata.csv\", na_values=missing_values)\n",
    "df"
   ]
  },
  {
   "cell_type": "code",
   "execution_count": 4,
   "id": "13ffef88",
   "metadata": {},
   "outputs": [
    {
     "data": {
      "text/plain": [
       "(8077, 9)"
      ]
     },
     "execution_count": 4,
     "metadata": {},
     "output_type": "execute_result"
    }
   ],
   "source": [
    "df.shape"
   ]
  },
  {
   "cell_type": "code",
   "execution_count": 5,
   "id": "fcf5e702",
   "metadata": {},
   "outputs": [
    {
     "data": {
      "text/plain": [
       "(1243, 9)"
      ]
     },
     "execution_count": 5,
     "metadata": {},
     "output_type": "execute_result"
    }
   ],
   "source": [
    "temp_df = df.query(\"not (yes == 0 & no == 0)\")\n",
    "temp_df.shape"
   ]
  },
  {
   "cell_type": "code",
   "execution_count": 7,
   "id": "f46de430",
   "metadata": {},
   "outputs": [
    {
     "data": {
      "text/html": [
       "<div>\n",
       "<style scoped>\n",
       "    .dataframe tbody tr th:only-of-type {\n",
       "        vertical-align: middle;\n",
       "    }\n",
       "\n",
       "    .dataframe tbody tr th {\n",
       "        vertical-align: top;\n",
       "    }\n",
       "\n",
       "    .dataframe thead th {\n",
       "        text-align: right;\n",
       "    }\n",
       "</style>\n",
       "<table border=\"1\" class=\"dataframe\">\n",
       "  <thead>\n",
       "    <tr style=\"text-align: right;\">\n",
       "      <th></th>\n",
       "      <th>auction_id</th>\n",
       "      <th>experiment</th>\n",
       "      <th>aware</th>\n",
       "    </tr>\n",
       "  </thead>\n",
       "  <tbody>\n",
       "    <tr>\n",
       "      <th>2</th>\n",
       "      <td>0016d14a-ae18-4a02-a204-6ba53b52f2ed</td>\n",
       "      <td>exposed</td>\n",
       "      <td>0</td>\n",
       "    </tr>\n",
       "    <tr>\n",
       "      <th>16</th>\n",
       "      <td>008aafdf-deef-4482-8fec-d98e3da054da</td>\n",
       "      <td>exposed</td>\n",
       "      <td>1</td>\n",
       "    </tr>\n",
       "    <tr>\n",
       "      <th>20</th>\n",
       "      <td>00a1384a-5118-4d1b-925b-6cdada50318d</td>\n",
       "      <td>exposed</td>\n",
       "      <td>0</td>\n",
       "    </tr>\n",
       "    <tr>\n",
       "      <th>23</th>\n",
       "      <td>00b6fadb-10bd-49e3-a778-290da82f7a8d</td>\n",
       "      <td>control</td>\n",
       "      <td>1</td>\n",
       "    </tr>\n",
       "    <tr>\n",
       "      <th>27</th>\n",
       "      <td>00ebf4a8-060f-4b99-93ac-c62724399483</td>\n",
       "      <td>control</td>\n",
       "      <td>0</td>\n",
       "    </tr>\n",
       "    <tr>\n",
       "      <th>...</th>\n",
       "      <td>...</td>\n",
       "      <td>...</td>\n",
       "      <td>...</td>\n",
       "    </tr>\n",
       "    <tr>\n",
       "      <th>8059</th>\n",
       "      <td>ffa08ff9-a132-4051-aef5-01a9c79367bc</td>\n",
       "      <td>exposed</td>\n",
       "      <td>1</td>\n",
       "    </tr>\n",
       "    <tr>\n",
       "      <th>8063</th>\n",
       "      <td>ffb176df-ecd2-45d3-b05f-05b173a093a7</td>\n",
       "      <td>exposed</td>\n",
       "      <td>1</td>\n",
       "    </tr>\n",
       "    <tr>\n",
       "      <th>8064</th>\n",
       "      <td>ffb79718-6f25-4896-b6b3-e58b80a6e147</td>\n",
       "      <td>control</td>\n",
       "      <td>0</td>\n",
       "    </tr>\n",
       "    <tr>\n",
       "      <th>8069</th>\n",
       "      <td>ffca1153-c182-4f32-9e90-2a6008417497</td>\n",
       "      <td>control</td>\n",
       "      <td>0</td>\n",
       "    </tr>\n",
       "    <tr>\n",
       "      <th>8071</th>\n",
       "      <td>ffdfdc09-48c7-4bfb-80f8-ec1eb633602b</td>\n",
       "      <td>exposed</td>\n",
       "      <td>0</td>\n",
       "    </tr>\n",
       "  </tbody>\n",
       "</table>\n",
       "<p>1243 rows × 3 columns</p>\n",
       "</div>"
      ],
      "text/plain": [
       "                                auction_id experiment  aware\n",
       "2     0016d14a-ae18-4a02-a204-6ba53b52f2ed    exposed      0\n",
       "16    008aafdf-deef-4482-8fec-d98e3da054da    exposed      1\n",
       "20    00a1384a-5118-4d1b-925b-6cdada50318d    exposed      0\n",
       "23    00b6fadb-10bd-49e3-a778-290da82f7a8d    control      1\n",
       "27    00ebf4a8-060f-4b99-93ac-c62724399483    control      0\n",
       "...                                    ...        ...    ...\n",
       "8059  ffa08ff9-a132-4051-aef5-01a9c79367bc    exposed      1\n",
       "8063  ffb176df-ecd2-45d3-b05f-05b173a093a7    exposed      1\n",
       "8064  ffb79718-6f25-4896-b6b3-e58b80a6e147    control      0\n",
       "8069  ffca1153-c182-4f32-9e90-2a6008417497    control      0\n",
       "8071  ffdfdc09-48c7-4bfb-80f8-ec1eb633602b    exposed      0\n",
       "\n",
       "[1243 rows x 3 columns]"
      ]
     },
     "execution_count": 7,
     "metadata": {},
     "output_type": "execute_result"
    }
   ],
   "source": [
    "#Dropping users who have not responded\n",
    "cleaned_df = temp_df[['auction_id', 'experiment', 'yes', 'no']]\n",
    "cleaned_df['aware'] = 0\n",
    "cleaned_df.loc[cleaned_df['yes'] == 1, 'aware'] = 1\n",
    "cleaned_df.loc[cleaned_df['yes'] == 0, 'aware'] = 0\n",
    "cleaned_df.drop(columns=['yes', 'no'], inplace=True)\n",
    "clean_df = cleaned_df.set_index('auction_id')\n",
    "cleaned_df"
   ]
  },
  {
   "cell_type": "code",
   "execution_count": 9,
   "id": "d84e9b5c",
   "metadata": {},
   "outputs": [
    {
     "data": {
      "text/html": [
       "<div>\n",
       "<style scoped>\n",
       "    .dataframe tbody tr th:only-of-type {\n",
       "        vertical-align: middle;\n",
       "    }\n",
       "\n",
       "    .dataframe tbody tr th {\n",
       "        vertical-align: top;\n",
       "    }\n",
       "\n",
       "    .dataframe thead th {\n",
       "        text-align: right;\n",
       "    }\n",
       "</style>\n",
       "<table border=\"1\" class=\"dataframe\">\n",
       "  <thead>\n",
       "    <tr style=\"text-align: right;\">\n",
       "      <th></th>\n",
       "      <th>aware</th>\n",
       "      <th>not aware</th>\n",
       "      <th>total</th>\n",
       "      <th>% of awareness</th>\n",
       "    </tr>\n",
       "    <tr>\n",
       "      <th>experiment</th>\n",
       "      <th></th>\n",
       "      <th></th>\n",
       "      <th></th>\n",
       "      <th></th>\n",
       "    </tr>\n",
       "  </thead>\n",
       "  <tbody>\n",
       "    <tr>\n",
       "      <th>control</th>\n",
       "      <td>264</td>\n",
       "      <td>322</td>\n",
       "      <td>586</td>\n",
       "      <td>0.450512</td>\n",
       "    </tr>\n",
       "    <tr>\n",
       "      <th>exposed</th>\n",
       "      <td>308</td>\n",
       "      <td>349</td>\n",
       "      <td>657</td>\n",
       "      <td>0.468798</td>\n",
       "    </tr>\n",
       "  </tbody>\n",
       "</table>\n",
       "</div>"
      ],
      "text/plain": [
       "            aware  not aware  total  % of awareness\n",
       "experiment                                         \n",
       "control       264        322    586        0.450512\n",
       "exposed       308        349    657        0.468798"
      ]
     },
     "execution_count": 9,
     "metadata": {},
     "output_type": "execute_result"
    }
   ],
   "source": [
    "summary_df = clean_df.pivot_table( index='experiment', aggfunc='sum')\n",
    "summary_df['total'] = clean_df.pivot_table( index='experiment', aggfunc='count')\n",
    "summary_df['% of awareness'] = clean_df.pivot_table( index='experiment')\n",
    "summary_df['not aware'] = summary_df['total'] - summary_df['aware']\n",
    "summary_df = summary_df.reindex(['aware', 'not aware', 'total', '% of awareness'], axis=1)\n",
    "summary_df"
   ]
  },
  {
   "cell_type": "code",
   "execution_count": 10,
   "id": "ab5bbfec",
   "metadata": {},
   "outputs": [
    {
     "data": {
      "text/plain": [
       "0.4687975646879756"
      ]
     },
     "execution_count": 10,
     "metadata": {},
     "output_type": "execute_result"
    }
   ],
   "source": [
    "exp_rate = summary_df['% of awareness']['exposed']\n",
    "cont_rate = summary_df['% of awareness']['control']\n",
    "exp_rate"
   ]
  },
  {
   "cell_type": "code",
   "execution_count": 12,
   "id": "4f091bb1",
   "metadata": {},
   "outputs": [
    {
     "name": "stdout",
     "output_type": "stream",
     "text": [
      "The difference between conversion rates of the exposed and control groups is 0.018285619295484168.\n"
     ]
    }
   ],
   "source": [
    "diff = exp_rate - cont_rate\n",
    "print(f'The difference between conversion rates of the exposed and control groups is {diff}.')"
   ]
  },
  {
   "cell_type": "markdown",
   "id": "a34cd7ce",
   "metadata": {},
   "source": [
    "To be confident of our result, we will perform hypothesis testing."
   ]
  },
  {
   "cell_type": "markdown",
   "id": "5dc61f87",
   "metadata": {},
   "source": [
    "## Probability Distributions"
   ]
  },
  {
   "cell_type": "code",
   "execution_count": 16,
   "id": "148b1980",
   "metadata": {},
   "outputs": [],
   "source": [
    "exp_aware = summary_df['aware']['exposed']\n",
    "cont_aware = summary_df['aware']['control']\n",
    "exp_total = summary_df['total']['exposed']\n",
    "cont_total = summary_df['total']['control']"
   ]
  },
  {
   "cell_type": "code",
   "execution_count": 18,
   "id": "048dc824",
   "metadata": {},
   "outputs": [
    {
     "data": {
      "image/png": "[encoded data removed]",
      "text/plain": [
       "<Figure size 864x432 with 1 Axes>"
      ]
     },
     "metadata": {
      "needs_background": "light"
     },
     "output_type": "display_data"
    }
   ],
   "source": [
    "fig, ax = plt.subplots(figsize=(12, 6))\n",
    "\n",
    "xC = np.linspace(cont_aware - 49, cont_aware + 50, 100)\n",
    "yC = scs.binom(cont_total, cont_rate).pmf(xC)\n",
    "ax.bar(xC, yC, alpha=0.5, linestyle='--')\n",
    "xE = np.linspace(exp_aware - 49, exp_aware + 50, 100)\n",
    "yE = scs.binom(exp_total , exp_rate).pmf(xE)\n",
    "ax.bar(xE, yE, alpha=0.5, linestyle='--')\n",
    "plt.xlabel('awareness')\n",
    "plt.ylabel('probability')\n",
    "plt.title(\"Binomial distributions for the control (red) and exposed (blue) groups\")\n",
    "plt.show()"
   ]
  },
  {
   "cell_type": "markdown",
   "id": "3808a7b6",
   "metadata": {},
   "source": [
    "The distribution in blue is the probability of users being aware of the brand LUX for the control group, while the distribution in orange is the probability of users being aware of the brand LUX for the exposed group. As we can see there is a difference between the mean of the two distributions. "
   ]
  },
  {
   "cell_type": "markdown",
   "id": "1b25cd45",
   "metadata": {},
   "source": [
    "## Standardize the probability distribution for control and exposed groups"
   ]
  },
  {
   "cell_type": "code",
   "execution_count": 19,
   "id": "0d40900a",
   "metadata": {},
   "outputs": [],
   "source": [
    "# standard error of the mean\n",
    "SE_C = np.sqrt(cont_rate * (1-cont_rate)) / np.sqrt(cont_total)\n",
    "SE_E = np.sqrt(exp_rate * (1-exp_rate)) / np.sqrt(exp_total)"
   ]
  },
  {
   "cell_type": "code",
   "execution_count": 21,
   "id": "fe924ac9",
   "metadata": {},
   "outputs": [
    {
     "data": {
      "image/png": "[encoded data removed]",
      "text/plain": [
       "<Figure size 720x360 with 1 Axes>"
      ]
     },
     "metadata": {
      "needs_background": "light"
     },
     "output_type": "display_data"
    }
   ],
   "source": [
    "# plot the null and alternative hypothesis\n",
    "fig, ax = plt.subplots(figsize=(10, 5))\n",
    "x = np.linspace(.35, .6, 1000)\n",
    "\n",
    "yC = scs.norm(cont_rate, SE_C).pdf(x)\n",
    "ax.plot(x, yC, label='Control')\n",
    "ax.axvline(x=cont_rate, c='red', alpha=0.5, linestyle='--')\n",
    "\n",
    "yE = scs.norm(exp_rate, SE_E).pdf(x)\n",
    "ax.plot(x, yE, label='Exposed')\n",
    "ax.axvline(x=exp_rate, c='blue', alpha=0.5, linestyle='--')\n",
    "\n",
    "plt.legend()\n",
    "plt.xlabel('Awareness Proportion')\n",
    "plt.ylabel('PDF')\n",
    "plt.title(\"Control (red) and test (blue) groups as normal distributions for the proportion of successes\")\n",
    "plt.show()"
   ]
  },
  {
   "cell_type": "code",
   "execution_count": 22,
   "id": "3fd470f6",
   "metadata": {},
   "outputs": [
    {
     "data": {
      "text/plain": [
       "(0.02055339057798332, 0.019468837373132736)"
      ]
     },
     "execution_count": 22,
     "metadata": {},
     "output_type": "execute_result"
    }
   ],
   "source": [
    "std_cont = np.sqrt(cont_rate * (1 - cont_rate) / cont_total)\n",
    "std_exp = np.sqrt(exp_rate * (1 - exp_rate) / exp_total)\n",
    "std_cont, std_exp"
   ]
  },
  {
   "cell_type": "markdown",
   "id": "ae967bbc",
   "metadata": {},
   "source": [
    "## Compare the Null Hypothesis vs. the Alternative Hypothesis"
   ]
  },
  {
   "cell_type": "markdown",
   "id": "7ddba841",
   "metadata": {},
   "source": [
    "### The null hypothesis: the position that the advertising campaign for the test group would result in no change in the LUX brand awareness.\n",
    "    \n",
    "### The alternative hypothesis: the opposing position that the adverstising campaign for the test group would result in an improvement of the brand awareness."
   ]
  },
  {
   "cell_type": "code",
   "execution_count": 36,
   "id": "e3ba617f",
   "metadata": {},
   "outputs": [],
   "source": [
    "def abplot(N_A, N_B, bcr, d_hat, sig_level=0.05, show_power=False,\n",
    "           show_alpha=False, show_beta=False, show_p_value=False,\n",
    "           show_legend=True):\n",
    "    \"\"\"Example plot of AB test\n",
    "    Example:\n",
    "        abplot(n=4000, bcr=0.11, d_hat=0.03)\n",
    "    Parameters:\n",
    "        n (int): total sample size for both control and test groups (N_A + N_B)\n",
    "        bcr (float): base conversion rate; conversion rate of control\n",
    "        d_hat: difference in conversion rate between the control and test\n",
    "            groups, sometimes referred to as **minimal detectable effect** when\n",
    "            calculating minimum sample size or **lift** when discussing\n",
    "            positive improvement desired from launching a change.\n",
    "    Returns:\n",
    "        None: the function plots an AB test as two distributions for\n",
    "        visualization purposes\n",
    "    \"\"\"\n",
    "    # create a plot object\n",
    "    fig, ax = plt.subplots(figsize=(12, 6))\n",
    "\n",
    "    # define parameters to find pooled standard error\n",
    "    X_A = bcr * N_A\n",
    "    X_B = (bcr + d_hat) * N_B\n",
    "    stderr = pooled_SE(N_A, N_B, X_A, X_B)\n",
    "\n",
    "    # plot the distribution of the null and alternative hypothesis\n",
    "    plot_null(ax, stderr)\n",
    "    plot_alt(ax, stderr, d_hat)\n",
    "\n",
    "    # set extent of plot area\n",
    "    ax.set_xlim(-8 * stderr, 8 * stderr)\n",
    "\n",
    "    # shade areas according to user input\n",
    "    if show_power:\n",
    "        show_area(ax, d_hat, stderr, sig_level, area_type='power')\n",
    "    if show_alpha:\n",
    "        show_area(ax, d_hat, stderr, sig_level, area_type='alpha')\n",
    "    if show_beta:\n",
    "        show_area(ax, d_hat, stderr, sig_level, area_type='beta')\n",
    "\n",
    "    # show p_value based on the binomial distributions for the two groups\n",
    "    if show_p_value:\n",
    "        null = ab_dist(stderr, 'control')\n",
    "        p_value = p_val(N_A, N_B, bcr, d_hat)\n",
    "        ax.text(3 * stderr, null.pdf(0),\n",
    "                'p-value = {0:.3f}'.format(p_value),\n",
    "                fontsize=12, ha='left')\n",
    "\n",
    "    # option to show legend\n",
    "    if show_legend:\n",
    "        plt.legend()\n",
    "\n",
    "    plt.xlabel('d')\n",
    "    plt.ylabel('PDF')\n",
    "    plt.show()\n"
   ]
  },
  {
   "cell_type": "code",
   "execution_count": 41,
   "id": "6d9f261e",
   "metadata": {},
   "outputs": [
    {
     "ename": "NameError",
     "evalue": "name 'pooled_SE' is not defined",
     "output_type": "error",
     "traceback": [
      "\u001b[1;31m---------------------------------------------------------------------------\u001b[0m",
      "\u001b[1;31mNameError\u001b[0m                                 Traceback (most recent call last)",
      "\u001b[1;32m~\\AppData\\Local\\Temp/ipykernel_15008/4246768549.py\u001b[0m in \u001b[0;36m<module>\u001b[1;34m\u001b[0m\n\u001b[1;32m----> 1\u001b[1;33m \u001b[0mabplot\u001b[0m\u001b[1;33m(\u001b[0m\u001b[0mcont_total\u001b[0m\u001b[1;33m,\u001b[0m \u001b[0mexp_total\u001b[0m\u001b[1;33m,\u001b[0m \u001b[0mcont_rate\u001b[0m\u001b[1;33m,\u001b[0m \u001b[0mdiff\u001b[0m\u001b[1;33m)\u001b[0m\u001b[1;33m\u001b[0m\u001b[1;33m\u001b[0m\u001b[0m\n\u001b[0m",
      "\u001b[1;32m~\\AppData\\Local\\Temp/ipykernel_15008/1337084181.py\u001b[0m in \u001b[0;36mabplot\u001b[1;34m(N_A, N_B, bcr, d_hat, sig_level, show_power, show_alpha, show_beta, show_p_value, show_legend)\u001b[0m\n\u001b[0;32m     22\u001b[0m     \u001b[0mX_A\u001b[0m \u001b[1;33m=\u001b[0m \u001b[0mbcr\u001b[0m \u001b[1;33m*\u001b[0m \u001b[0mN_A\u001b[0m\u001b[1;33m\u001b[0m\u001b[1;33m\u001b[0m\u001b[0m\n\u001b[0;32m     23\u001b[0m     \u001b[0mX_B\u001b[0m \u001b[1;33m=\u001b[0m \u001b[1;33m(\u001b[0m\u001b[0mbcr\u001b[0m \u001b[1;33m+\u001b[0m \u001b[0md_hat\u001b[0m\u001b[1;33m)\u001b[0m \u001b[1;33m*\u001b[0m \u001b[0mN_B\u001b[0m\u001b[1;33m\u001b[0m\u001b[1;33m\u001b[0m\u001b[0m\n\u001b[1;32m---> 24\u001b[1;33m     \u001b[0mstderr\u001b[0m \u001b[1;33m=\u001b[0m \u001b[0mpooled_SE\u001b[0m\u001b[1;33m(\u001b[0m\u001b[0mN_A\u001b[0m\u001b[1;33m,\u001b[0m \u001b[0mN_B\u001b[0m\u001b[1;33m,\u001b[0m \u001b[0mX_A\u001b[0m\u001b[1;33m,\u001b[0m \u001b[0mX_B\u001b[0m\u001b[1;33m)\u001b[0m\u001b[1;33m\u001b[0m\u001b[1;33m\u001b[0m\u001b[0m\n\u001b[0m\u001b[0;32m     25\u001b[0m \u001b[1;33m\u001b[0m\u001b[0m\n\u001b[0;32m     26\u001b[0m     \u001b[1;31m# plot the distribution of the null and alternative hypothesis\u001b[0m\u001b[1;33m\u001b[0m\u001b[1;33m\u001b[0m\u001b[0m\n",
      "\u001b[1;31mNameError\u001b[0m: name 'pooled_SE' is not defined"
     ]
    },
    {
     "data": {
      "image/png": "[encoded data removed]",
      "text/plain": [
       "<Figure size 864x432 with 1 Axes>"
      ]
     },
     "metadata": {
      "needs_background": "light"
     },
     "output_type": "display_data"
    }
   ],
   "source": [
    "abplot(cont_total, exp_total, cont_rate, diff)\n"
   ]
  },
  {
   "cell_type": "code",
   "execution_count": 42,
   "id": "f992de90",
   "metadata": {},
   "outputs": [
    {
     "data": {
      "text/plain": [
       "(0.6458981015684259, 0.2591726745827285)"
      ]
     },
     "execution_count": 42,
     "metadata": {},
     "output_type": "execute_result"
    }
   ],
   "source": [
    "z_score = (diff) / np.sqrt(std_cont**2 + std_exp**2)\n",
    "p_value = scs.norm().sf(z_score)\n",
    "z_score, p_value"
   ]
  },
  {
   "cell_type": "code",
   "execution_count": 43,
   "id": "b5b189d9",
   "metadata": {},
   "outputs": [
    {
     "ename": "NameError",
     "evalue": "name 'pooled_SE' is not defined",
     "output_type": "error",
     "traceback": [
      "\u001b[1;31m---------------------------------------------------------------------------\u001b[0m",
      "\u001b[1;31mNameError\u001b[0m                                 Traceback (most recent call last)",
      "\u001b[1;32m~\\AppData\\Local\\Temp/ipykernel_15008/2306608686.py\u001b[0m in \u001b[0;36m<module>\u001b[1;34m\u001b[0m\n\u001b[1;32m----> 1\u001b[1;33m \u001b[0mabplot\u001b[0m\u001b[1;33m(\u001b[0m\u001b[0mcont_total\u001b[0m\u001b[1;33m,\u001b[0m \u001b[0mexp_total\u001b[0m\u001b[1;33m,\u001b[0m \u001b[0mcont_rate\u001b[0m\u001b[1;33m,\u001b[0m \u001b[0mdiff\u001b[0m\u001b[1;33m,\u001b[0m \u001b[0mshow_power\u001b[0m\u001b[1;33m=\u001b[0m\u001b[1;32mTrue\u001b[0m\u001b[1;33m,\u001b[0m \u001b[0mshow_beta\u001b[0m\u001b[1;33m=\u001b[0m\u001b[1;32mTrue\u001b[0m\u001b[1;33m,\u001b[0m \u001b[0mshow_alpha\u001b[0m\u001b[1;33m=\u001b[0m\u001b[1;32mTrue\u001b[0m\u001b[1;33m,\u001b[0m \u001b[0mshow_p_value\u001b[0m\u001b[1;33m=\u001b[0m\u001b[1;32mTrue\u001b[0m\u001b[1;33m)\u001b[0m\u001b[1;33m\u001b[0m\u001b[1;33m\u001b[0m\u001b[0m\n\u001b[0m",
      "\u001b[1;32m~\\AppData\\Local\\Temp/ipykernel_15008/1337084181.py\u001b[0m in \u001b[0;36mabplot\u001b[1;34m(N_A, N_B, bcr, d_hat, sig_level, show_power, show_alpha, show_beta, show_p_value, show_legend)\u001b[0m\n\u001b[0;32m     22\u001b[0m     \u001b[0mX_A\u001b[0m \u001b[1;33m=\u001b[0m \u001b[0mbcr\u001b[0m \u001b[1;33m*\u001b[0m \u001b[0mN_A\u001b[0m\u001b[1;33m\u001b[0m\u001b[1;33m\u001b[0m\u001b[0m\n\u001b[0;32m     23\u001b[0m     \u001b[0mX_B\u001b[0m \u001b[1;33m=\u001b[0m \u001b[1;33m(\u001b[0m\u001b[0mbcr\u001b[0m \u001b[1;33m+\u001b[0m \u001b[0md_hat\u001b[0m\u001b[1;33m)\u001b[0m \u001b[1;33m*\u001b[0m \u001b[0mN_B\u001b[0m\u001b[1;33m\u001b[0m\u001b[1;33m\u001b[0m\u001b[0m\n\u001b[1;32m---> 24\u001b[1;33m     \u001b[0mstderr\u001b[0m \u001b[1;33m=\u001b[0m \u001b[0mpooled_SE\u001b[0m\u001b[1;33m(\u001b[0m\u001b[0mN_A\u001b[0m\u001b[1;33m,\u001b[0m \u001b[0mN_B\u001b[0m\u001b[1;33m,\u001b[0m \u001b[0mX_A\u001b[0m\u001b[1;33m,\u001b[0m \u001b[0mX_B\u001b[0m\u001b[1;33m)\u001b[0m\u001b[1;33m\u001b[0m\u001b[1;33m\u001b[0m\u001b[0m\n\u001b[0m\u001b[0;32m     25\u001b[0m \u001b[1;33m\u001b[0m\u001b[0m\n\u001b[0;32m     26\u001b[0m     \u001b[1;31m# plot the distribution of the null and alternative hypothesis\u001b[0m\u001b[1;33m\u001b[0m\u001b[1;33m\u001b[0m\u001b[0m\n",
      "\u001b[1;31mNameError\u001b[0m: name 'pooled_SE' is not defined"
     ]
    },
    {
     "data": {
      "image/png": "[encoded data removed]",
      "text/plain": [
       "<Figure size 864x432 with 1 Axes>"
      ]
     },
     "metadata": {
      "needs_background": "light"
     },
     "output_type": "display_data"
    }
   ],
   "source": [
    "abplot(cont_total, exp_total, cont_rate, diff, show_power=True, show_beta=True, show_alpha=True, show_p_value=True)"
   ]
  },
  {
   "cell_type": "code",
   "execution_count": null,
   "id": "bb910386",
   "metadata": {},
   "outputs": [],
   "source": []
  }
 ],
 "metadata": {
  "kernelspec": {
   "display_name": "Python 3 (ipykernel)",
   "language": "python",
   "name": "python3"
  },
  "language_info": {
   "codemirror_mode": {
    "name": "ipython",
    "version": 3
   },
   "file_extension": ".py",
   "mimetype": "text/x-python",
   "name": "python",
   "nbconvert_exporter": "python",
   "pygments_lexer": "ipython3",
   "version": "3.9.7"
  }
 },
 "nbformat": 4,
 "nbformat_minor": 5
}
